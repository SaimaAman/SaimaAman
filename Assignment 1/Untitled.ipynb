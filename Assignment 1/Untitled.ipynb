{
 "cells": [
  {
   "cell_type": "code",
   "execution_count": 1,
   "id": "df696364",
   "metadata": {},
   "outputs": [
    {
     "name": "stdout",
     "output_type": "stream",
     "text": [
      "hello\n"
     ]
    }
   ],
   "source": [
    "print(\"hello\")"
   ]
  },
  {
   "cell_type": "code",
   "execution_count": 2,
   "id": "8da0dd1b",
   "metadata": {},
   "outputs": [
    {
     "name": "stdout",
     "output_type": "stream",
     "text": [
      "Twinkle, twinkle, littler star,\n",
      " \t how wonder what you are\n"
     ]
    }
   ],
   "source": [
    "print(\"Twinkle, twinkle, littler star,\\n \\t how wonder what you are\")"
   ]
  },
  {
   "cell_type": "code",
   "execution_count": 1,
   "id": "5585a1fa",
   "metadata": {},
   "outputs": [
    {
     "name": "stdout",
     "output_type": "stream",
     "text": [
      "Twinkle, twinkle, littler star,\n",
      " \t how I wonder what you are \n",
      " \t \t Up above the world so high \n",
      " \t \t Like a diamond in the sky \n",
      " Twinkle, twinkle, little star, \n",
      " \t How I wonder what you are\n"
     ]
    }
   ],
   "source": [
    "print(\"Twinkle, twinkle, littler star,\\n \\t how I wonder what you are \\n \\t \\t Up above the world so high \\n \\t \\t Like a diamond in the sky \\n Twinkle, twinkle, little star, \\n \\t How I wonder what you are\")"
   ]
  },
  {
   "cell_type": "code",
   "execution_count": 2,
   "id": "c4666996",
   "metadata": {},
   "outputs": [
    {
     "name": "stdout",
     "output_type": "stream",
     "text": [
      "3.9.7\n"
     ]
    }
   ],
   "source": [
    "from platform import  python_version\n",
    "print(python_version())"
   ]
  },
  {
   "cell_type": "code",
   "execution_count": 3,
   "id": "d554b420",
   "metadata": {},
   "outputs": [
    {
     "name": "stdout",
     "output_type": "stream",
     "text": [
      "Today Date and Current Time is : 2022-01-01 15:48:57.110187\n"
     ]
    }
   ],
   "source": [
    "from datetime import datetime\n",
    "today= datetime.today()\n",
    "print(\"Today Date and Current Time is :\", today)"
   ]
  },
  {
   "cell_type": "code",
   "execution_count": 6,
   "id": "9e3b8c7b",
   "metadata": {},
   "outputs": [
    {
     "name": "stdout",
     "output_type": "stream",
     "text": [
      " Enter the radius of a Circle :7\n",
      "Area of the Circle is 153.86000\n"
     ]
    }
   ],
   "source": [
    "PI=3.14\n",
    "r= float(input(\" Enter the radius of a Circle :\"))\n",
    "area= PI*r*r\n",
    "print(\"Area of the Circle is %.5f\" %area)"
   ]
  },
  {
   "cell_type": "code",
   "execution_count": 9,
   "id": "2d751c60",
   "metadata": {},
   "outputs": [
    {
     "name": "stdout",
     "output_type": "stream",
     "text": [
      " Enter Your Fisrt Name :Saima \n",
      " Enter Your Last Name :Aman\n",
      "Name:Aman Saima \n"
     ]
    }
   ],
   "source": [
    "fname= input(\" Enter Your Fisrt Name :\")\n",
    "lname= input(\" Enter Your Last Name :\")\n",
    "print(\"Name:\" +lname + \" \"  + fname)"
   ]
  },
  {
   "cell_type": "code",
   "execution_count": 10,
   "id": "4b74edb5",
   "metadata": {},
   "outputs": [
    {
     "name": "stdout",
     "output_type": "stream",
     "text": [
      "Enter Your Fisrt Number :4\n",
      "Enter Your Last Number :7\n",
      "You Have Entered 11\n"
     ]
    }
   ],
   "source": [
    "a= int(input(\"Enter Your Fisrt Number :\"))\n",
    "b= int(input(\"Enter Your Last Number :\"))\n",
    "c=a+b\n",
    "print(\"You Have Entered\", c)"
   ]
  },
  {
   "cell_type": "code",
   "execution_count": null,
   "id": "374f1973",
   "metadata": {},
   "outputs": [],
   "source": []
  }
 ],
 "metadata": {
  "kernelspec": {
   "display_name": "Python 3 (ipykernel)",
   "language": "python",
   "name": "python3"
  },
  "language_info": {
   "codemirror_mode": {
    "name": "ipython",
    "version": 3
   },
   "file_extension": ".py",
   "mimetype": "text/x-python",
   "name": "python",
   "nbconvert_exporter": "python",
   "pygments_lexer": "ipython3",
   "version": "3.9.7"
  }
 },
 "nbformat": 4,
 "nbformat_minor": 5
}
